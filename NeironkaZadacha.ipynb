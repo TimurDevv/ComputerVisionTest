{
 "cells": [
  {
   "cell_type": "code",
   "execution_count": 1,
   "id": "07cf029b",
   "metadata": {},
   "outputs": [],
   "source": [
    "import os\n",
    "import numpy as np\n",
    "import tensorflow as tf\n",
    "from tensorflow.keras.models import Sequential\n",
    "from tensorflow.keras.layers import Conv2D, MaxPooling2D, Dense, Flatten, Dropout\n",
    "from tensorflow.keras import utils\n",
    "from tensorflow.keras.preprocessing import image\n",
    "from tensorflow.keras.preprocessing import image_dataset_from_directory\n",
    "import matplotlib.pyplot as plt\n",
    " "
   ]
  },
  {
   "cell_type": "code",
   "execution_count": 2,
   "id": "6baa6664",
   "metadata": {},
   "outputs": [],
   "source": [
    "batch_size=256\n",
    "image_size=(100, 100)"
   ]
  },
  {
   "cell_type": "code",
   "execution_count": 3,
   "id": "abe06eac",
   "metadata": {},
   "outputs": [
    {
     "name": "stdout",
     "output_type": "stream",
     "text": [
      "Found 34601 files belonging to 2 classes.\n",
      "Using 31141 files for training.\n"
     ]
    }
   ],
   "source": [
    "train_dataset = image_dataset_from_directory('traning/train',\n",
    "                                             subset='training',\n",
    "                                             seed=42,\n",
    "                                             validation_split=0.1,\n",
    "                                             batch_size=batch_size,\n",
    "                                             image_size=image_size)"
   ]
  },
  {
   "cell_type": "code",
   "execution_count": 4,
   "id": "f6811065",
   "metadata": {},
   "outputs": [
    {
     "name": "stdout",
     "output_type": "stream",
     "text": [
      "Found 34601 files belonging to 2 classes.\n",
      "Using 3460 files for validation.\n"
     ]
    }
   ],
   "source": [
    "validation_dataset = image_dataset_from_directory('traning/train',\n",
    "                                             subset='validation',\n",
    "                                             seed=42,\n",
    "                                             validation_split=0.1,\n",
    "                                             batch_size=batch_size,\n",
    "                                             image_size=image_size)"
   ]
  },
  {
   "cell_type": "code",
   "execution_count": 5,
   "id": "d93f8042",
   "metadata": {},
   "outputs": [
    {
     "data": {
      "text/plain": [
       "['dude', 'nodude']"
      ]
     },
     "execution_count": 5,
     "metadata": {},
     "output_type": "execute_result"
    }
   ],
   "source": [
    "class_names = train_dataset.class_names\n",
    "class_names"
   ]
  },
  {
   "cell_type": "code",
   "execution_count": 14,
   "id": "2512a1ba",
   "metadata": {},
   "outputs": [
    {
     "name": "stdout",
     "output_type": "stream",
     "text": [
      "Found 3859 files belonging to 1 classes.\n"
     ]
    }
   ],
   "source": [
    "test_dataset = image_dataset_from_directory('traning/aitest',\n",
    "                                             batch_size=batch_size,\n",
    "                                             image_size=image_size)"
   ]
  },
  {
   "cell_type": "code",
   "execution_count": 9,
   "id": "40061939",
   "metadata": {},
   "outputs": [],
   "source": [
    "AUTOTUNE = tf.data.experimental.AUTOTUNE\n",
    "\n",
    "train_dataset = train_dataset.prefetch(buffer_size=AUTOTUNE)\n",
    "validation_dataset = validation_dataset.prefetch(buffer_size=AUTOTUNE)\n",
    "test_dataset = test_dataset.prefetch(buffer_size=AUTOTUNE)"
   ]
  },
  {
   "cell_type": "code",
   "execution_count": 10,
   "id": "990d07af",
   "metadata": {},
   "outputs": [],
   "source": [
    "# Создаем последовательную модель\n",
    "model = Sequential()\n",
    "# Сверточный слой\n",
    "model.add(Conv2D(16, (5, 5), padding='same', \n",
    "                 input_shape=(100, 100, 3), activation='relu'))\n",
    "# Слой подвыборки\n",
    "model.add(MaxPooling2D(pool_size=(2, 2)))\n",
    "# Сверточный слой\n",
    "model.add(Conv2D(32, (5, 5), activation='relu', padding='same'))\n",
    "# Слой подвыборки\n",
    "model.add(MaxPooling2D(pool_size=(2, 2)))\n",
    "# Сверточный слой\n",
    "model.add(Conv2D(64, (5, 5), activation='relu', padding='same'))\n",
    "# Слой подвыборки\n",
    "model.add(MaxPooling2D(pool_size=(2, 2)))\n",
    "# Сверточный слой\n",
    "model.add(Conv2D(128, (5, 5), activation='relu', padding='same'))\n",
    "# Слой подвыборки\n",
    "model.add(MaxPooling2D(pool_size=(2, 2)))\n",
    "# Полносвязная часть нейронной сети для классификации\n",
    "model.add(Flatten())\n",
    "model.add(Dense(1024, activation='relu'))\n",
    "model.add(Dropout(0.2))\n",
    "model.add(Dense(256, activation='relu'))\n",
    "model.add(Dropout(0.2))\n",
    "# Выходной слой, 131 нейрон по количеству классов\n",
    "model.add(Dense(131, activation='softmax'))"
   ]
  },
  {
   "cell_type": "code",
   "execution_count": 11,
   "id": "f01da834",
   "metadata": {},
   "outputs": [],
   "source": [
    "model.compile(loss='sparse_categorical_crossentropy',\n",
    "              optimizer=\"adam\",\n",
    "              metrics=['accuracy'])"
   ]
  },
  {
   "cell_type": "code",
   "execution_count": 12,
   "id": "f2c38368",
   "metadata": {},
   "outputs": [
    {
     "name": "stdout",
     "output_type": "stream",
     "text": [
      "Epoch 1/5\n",
      "122/122 - 233s - loss: 1.5221 - accuracy: 0.9553 - val_loss: 0.0151 - val_accuracy: 0.9962 - 233s/epoch - 2s/step\n",
      "Epoch 2/5\n",
      "122/122 - 214s - loss: 0.0149 - accuracy: 0.9970 - val_loss: 0.0121 - val_accuracy: 0.9962 - 214s/epoch - 2s/step\n",
      "Epoch 3/5\n",
      "122/122 - 215s - loss: 0.0120 - accuracy: 0.9973 - val_loss: 0.0083 - val_accuracy: 0.9974 - 215s/epoch - 2s/step\n",
      "Epoch 4/5\n",
      "122/122 - 218s - loss: 0.0076 - accuracy: 0.9979 - val_loss: 0.0064 - val_accuracy: 0.9977 - 218s/epoch - 2s/step\n",
      "Epoch 5/5\n",
      "122/122 - 209s - loss: 0.0079 - accuracy: 0.9977 - val_loss: 0.0073 - val_accuracy: 0.9977 - 209s/epoch - 2s/step\n"
     ]
    }
   ],
   "source": [
    "history = model.fit(train_dataset, \n",
    "                    validation_data=validation_dataset,\n",
    "                    epochs=5,\n",
    "                    verbose=2)"
   ]
  },
  {
   "cell_type": "code",
   "execution_count": 15,
   "id": "46569149",
   "metadata": {},
   "outputs": [
    {
     "name": "stdout",
     "output_type": "stream",
     "text": [
      "16/16 [==============================] - 6s 364ms/step - loss: 15.4505 - accuracy: 0.4714\n"
     ]
    }
   ],
   "source": [
    "scores = model.evaluate(test_dataset, verbose=1)"
   ]
  },
  {
   "cell_type": "code",
   "execution_count": 16,
   "id": "308bee64",
   "metadata": {},
   "outputs": [
    {
     "name": "stdout",
     "output_type": "stream",
     "text": [
      "Доля верных ответов на тестовых данных, в процентах: 47.1366\n"
     ]
    }
   ],
   "source": [
    "print(\"Доля верных ответов на тестовых данных, в процентах:\", round(scores[1] * 100, 4))"
   ]
  },
  {
   "cell_type": "code",
   "execution_count": null,
   "id": "2b9ce14b",
   "metadata": {},
   "outputs": [],
   "source": []
  }
 ],
 "metadata": {
  "kernelspec": {
   "display_name": "Python 3 (ipykernel)",
   "language": "python",
   "name": "python3"
  },
  "language_info": {
   "codemirror_mode": {
    "name": "ipython",
    "version": 3
   },
   "file_extension": ".py",
   "mimetype": "text/x-python",
   "name": "python",
   "nbconvert_exporter": "python",
   "pygments_lexer": "ipython3",
   "version": "3.9.13"
  }
 },
 "nbformat": 4,
 "nbformat_minor": 5
}
